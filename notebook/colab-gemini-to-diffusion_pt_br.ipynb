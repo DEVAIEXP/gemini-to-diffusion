{
  "cells": [
    {
      "cell_type": "markdown",
      "metadata": {
        "id": "7E5dUDuqnSht"
      },
      "source": [
        "**1 - Clonar o repositório**"
      ]
    },
    {
      "cell_type": "code",
      "execution_count": null,
      "metadata": {
        "id": "I4JgxTz3ihW5"
      },
      "outputs": [],
      "source": [
        "!git clone https://github.com/DEVAIEXP/gemini-to-diffusion.git\n"
      ]
    },
    {
      "cell_type": "markdown",
      "metadata": {
        "id": "BQj9lFICnc3Y"
      },
      "source": [
        "**2 - Preparar o ambiente** (Ignore o último erro)"
      ]
    },
    {
      "cell_type": "code",
      "execution_count": null,
      "metadata": {
        "id": "5CUcvDq3nORB"
      },
      "outputs": [],
      "source": [
        "%cd gemini-to-diffusion/\n",
        "!pip install -q -U -r requirements_colab.txt\n",
        "!pip install --upgrade gradio"
      ]
    },
    {
      "cell_type": "markdown",
      "metadata": {
        "id": "PwB1sn0rvMgR"
      },
      "source": [
        "**3 - Executar aplicação**\n",
        "# Atenção! Acesse o link gerado em \"Running on public URL\"."
      ]
    },
    {
      "cell_type": "code",
      "execution_count": null,
      "metadata": {
        "id": "lPiC9ghIvQju"
      },
      "outputs": [],
      "source": [
        "!python app_pt-br.py"
      ]
    }
  ],
  "metadata": {
    "colab": {
      "provenance": []
    },
    "kernelspec": {
      "display_name": "Python 3",
      "name": "python3"
    },
    "language_info": {
      "name": "python"
    }
  },
  "nbformat": 4,
  "nbformat_minor": 0
}
